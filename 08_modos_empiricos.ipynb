{
  "nbformat": 4,
  "nbformat_minor": 0,
  "metadata": {
    "accelerator": "GPU",
    "colab": {
      "name": "08_modos_empiricos.ipynb",
      "provenance": [],
      "collapsed_sections": [],
      "include_colab_link": true
    },
    "kernelspec": {
      "display_name": "Python 3",
      "name": "python3"
    }
  },
  "cells": [
    {
      "cell_type": "markdown",
      "metadata": {
        "id": "view-in-github",
        "colab_type": "text"
      },
      "source": [
        "<a href=\"https://colab.research.google.com/github/jfdoppler/DNL_1c2021/blob/main/08_modos_empiricos.ipynb\" target=\"_parent\"><img src=\"https://colab.research.google.com/assets/colab-badge.svg\" alt=\"Open In Colab\"/></a>"
      ]
    },
    {
      "cell_type": "markdown",
      "metadata": {
        "id": "JCi5Aug9id0c"
      },
      "source": [
        "# Modos Empíricos con SVD\n",
        "\n",
        "En este Notebook vamos a trabajar con datos experimentales correspondientes a una película del aparato fonador de un ave. En este sistema una membrana oscila debedio a la interacción con un flujo de aire (mismo fenómeno que sucede, por ejemplo, en nuestras cuerdas vocales). \n",
        "El Notebook está basado en la versión del curso de sistemas dinámicos dictado por Gabriel Mindlin y Gonzalo Uribarri en 2020. Gracias por el material. \n"
      ]
    },
    {
      "cell_type": "markdown",
      "metadata": {
        "id": "PyLJSzKlQpwo"
      },
      "source": [
        "Aquí la película en cuestión:\n",
        "https://www.pnas.org/content/suppl/2020/02/12/1922147117.DCSupplemental"
      ]
    },
    {
      "cell_type": "markdown",
      "metadata": {
        "id": "8diPCexHq-hp"
      },
      "source": [
        "### 1. Carpeta de Trabajo y Lectura de Archivos"
      ]
    },
    {
      "cell_type": "markdown",
      "metadata": {
        "id": "rZOsWZU_rDBL"
      },
      "source": [
        "Primero, vamos a montarnos sobre el directorio de google Drive. Esto nos permitira leer y guardar archivos en nuestro Drive. Generamos la dirección `root_dir` (un string) que apunta a la carpeta de trabajo. Noten que al ejecutar el comando `mount`, google nos pedirá una contraseña la cual obtendremos mediante el link que aparece.\n",
        "\n",
        "**Nota:** Recuerden que primero deben crear en su drive la carpeta."
      ]
    },
    {
      "cell_type": "code",
      "metadata": {
        "id": "IAW0m8PGAYs1"
      },
      "source": [
        "from google.colab import drive\n",
        "\n",
        "drive.mount('/content/gdrive', force_remount=True)\n",
        "\n",
        "# Aca deben apuntar a la carpeta de su drive donde guardaron el gif\n",
        "# https://drive.google.com/file/d/1Nekjm2Xg4RL1ZwUXkeH07NnlGfvthnDG/view?usp=sharing\n",
        "root_dir = \"/content/gdrive/My Drive/Ayudantia/DNL/ModosEmpiricos/pelicula_original.gif\""
      ],
      "execution_count": null,
      "outputs": []
    },
    {
      "cell_type": "markdown",
      "metadata": {
        "id": "uzs_Pjx5TXjJ"
      },
      "source": [
        "Para importar separar el gif en frames definimos la función importar_gif"
      ]
    },
    {
      "cell_type": "code",
      "metadata": {
        "id": "0qj0Vm1tTiKJ"
      },
      "source": [
        "from PIL import Image\n",
        "import numpy as np\n",
        "import matplotlib.pyplot as plt\n",
        "from numpy import asarray\n",
        "from mpl_toolkits.mplot3d import Axes3D\n",
        "\n",
        "def importar_gif(dir_gif):\n",
        "  im = Image.open(dir_gif)\n",
        "  lista=[asarray(im)]\n",
        "  # To iterate through the entire gif\n",
        "  try:\n",
        "      while 1:\n",
        "          im.seek(im.tell()+1)\n",
        "          lista.append(asarray(im))\n",
        "          \n",
        "  except EOFError:\n",
        "      pass # end of sequence\n",
        "\n",
        "  frames=np.array(lista)\n",
        "  frames=-frames.astype('float32')+255. \n",
        "  return frames"
      ],
      "execution_count": null,
      "outputs": []
    },
    {
      "cell_type": "code",
      "metadata": {
        "id": "KUchZgoTT1gH"
      },
      "source": [
        "x = importar_gif(root_dir)\n",
        "print(x.shape)"
      ],
      "execution_count": null,
      "outputs": []
    },
    {
      "cell_type": "markdown",
      "metadata": {
        "id": "Tba0QlfOUwKs"
      },
      "source": [
        "Entonces tenemos 127 frames, de 160 píxeles de altura por 150 píxeles de base. Veamos alguno de estos frames."
      ]
    },
    {
      "cell_type": "code",
      "metadata": {
        "id": "hggEYrvxVWiU"
      },
      "source": [
        "plt.imshow(x[10],cmap='gray')"
      ],
      "execution_count": null,
      "outputs": []
    },
    {
      "cell_type": "markdown",
      "metadata": {
        "id": "q8iYVOiOxaRO"
      },
      "source": [
        "### 2. Preprocesamiento"
      ]
    },
    {
      "cell_type": "markdown",
      "metadata": {
        "id": "rbofIuaw8rw7"
      },
      "source": [
        "Primero vamos a adecuar las imágenes con las que vamos a trabajar, es decir vamos a llevarlas a una forma adecauda para poder aplicarles el algortimo de SVD."
      ]
    },
    {
      "cell_type": "code",
      "metadata": {
        "id": "wKrbc7HQHtuO"
      },
      "source": [
        "# X es un tensor de mxhxb con n = # de frames, h=altura, b=base.\n",
        "\n",
        "# Normalizamos: llevamos de [0,255] a [0,1]\n",
        "X = x/255\n",
        "\n",
        "# Restamos la imagen Media\n",
        "X_medio = np.mean(X,axis=0)\n",
        "X = X-X_medio"
      ],
      "execution_count": null,
      "outputs": []
    },
    {
      "cell_type": "code",
      "metadata": {
        "id": "ybPd88T9X4dh"
      },
      "source": [
        "# Graficamos el frame promedio\n",
        "plt.imshow(X_medio,cmap='gray')\n",
        "plt.colorbar()\n",
        "plt.show()"
      ],
      "execution_count": null,
      "outputs": []
    },
    {
      "cell_type": "code",
      "metadata": {
        "id": "x92Nhj8NCHoO"
      },
      "source": [
        "\n",
        "# Graficamos un frame renormalizado como ejemplo\n",
        "numero = 55\n",
        "plt.imshow(X[numero],cmap='gray')\n",
        "plt.colorbar()\n",
        "plt.show()"
      ],
      "execution_count": null,
      "outputs": []
    },
    {
      "cell_type": "markdown",
      "metadata": {
        "id": "69-dkTVU-cfm"
      },
      "source": [
        "Por ultimo, vamos \"aplastar\" el tensor que contiene las imágenes. Es decir que vamos a llevarlo a una forma $(n,m)$ siendo $n = altura \\times base$ y siendo $ m = \\# \\  frames$ ."
      ]
    },
    {
      "cell_type": "code",
      "metadata": {
        "id": "CDrEFhn_-cEh"
      },
      "source": [
        "# Tomamos las dimensiones de X\n",
        "dims = np.shape(X)\n",
        "\n",
        "# Construyo matriz Y de nxm con n = altura x base, m = num de frames\n",
        "Y = np.transpose(np.reshape(X,(dims[0],dims[1]*dims[2])))\n",
        "\n",
        "print('Shape de la matrix original',np.shape(X))\n",
        "print('Shape de la matrix aplanada',np.shape(Y))\n"
      ],
      "execution_count": null,
      "outputs": []
    },
    {
      "cell_type": "markdown",
      "metadata": {
        "id": "Xg2DfREkAI_x"
      },
      "source": [
        "### 3. Aplicamos SVD"
      ]
    },
    {
      "cell_type": "markdown",
      "metadata": {
        "id": "qfTqczZlUodP"
      },
      "source": [
        "Usaremos la función de la libreria de algebra lineal de numpy `np.linalg.svd` para realizar la descomposición."
      ]
    },
    {
      "cell_type": "code",
      "metadata": {
        "id": "x7lLKIQtBow3"
      },
      "source": [
        "#SVD para los primeros N frames\n",
        "N = 127\n",
        "\n",
        "# # SVD Completo\n",
        "# Uhat, Shat, Vhat = np.linalg.svd(Y[:,:N],full_matrices=True)\n",
        "\n",
        "# SVD Económico\n",
        "Uhat, Shat, Vhat = np.linalg.svd(Y[:,:N], full_matrices=False)\n",
        "\n",
        "print('Shape de U:',Uhat.shape)\n",
        "print('Shape de Shat:',Shat.shape)\n",
        "print('Shape de Vhat:',Vhat.shape)"
      ],
      "execution_count": null,
      "outputs": []
    },
    {
      "cell_type": "markdown",
      "metadata": {
        "id": "iMFvHNLxM9UL"
      },
      "source": [
        "**Ejercicio:** \n",
        "Cambie del SVD económico al SVD completo y vea como cambia la forma de las matrices. ¿Qué es lo que está cambiando entre ambos manera de computar la descomposición?\n",
        "\n",
        "Vamos a graficar el valor de cada uno de los valores singulares y la suma cumulativa de los mismos:"
      ]
    },
    {
      "cell_type": "code",
      "metadata": {
        "id": "y6Iz_MeDwPhN"
      },
      "source": [
        "plt.figure(figsize=(15,5))\n",
        "plt.subplot(1,2,1)\n",
        "plt.plot(Shat,'o')\n",
        "plt.ylabel('Singular value')\n",
        "plt.grid()\n",
        "plt.yscale('linear')\n",
        "plt.subplot(1,2,2)\n",
        "plt.plot(np.cumsum(Shat)/np.sum(Shat),'o')\n",
        "plt.ylabel('Suma cumulativa')\n",
        "plt.grid()\n"
      ],
      "execution_count": null,
      "outputs": []
    },
    {
      "cell_type": "markdown",
      "metadata": {
        "id": "yrk_L3io8445"
      },
      "source": [
        "Noten que en la matriz Uhat guardamos la información de los modos espaciales como columnas, mientras que en la matriz Vhat guardamos la evolucion temporal de cada uno de estos modos como filas.\n",
        "\n",
        "Veamos como lucen los primeros 6 modos espaciales. "
      ]
    },
    {
      "cell_type": "code",
      "metadata": {
        "id": "iHfC7op8xy0f"
      },
      "source": [
        "plt.figure(figsize=(22,10))\n",
        "for i in range(6):\n",
        "  plt.subplot(2,3,i+1)\n",
        "  plt.imshow(np.reshape(Uhat[:,i],(dims[1],dims[2])),cmap='gray',vmin=np.min(Uhat[:,:6]),vmax=np.max(Uhat[:,:6]))\n",
        "  plt.xticks([])\n",
        "  plt.yticks([])\n",
        "  plt.colorbar()"
      ],
      "execution_count": null,
      "outputs": []
    },
    {
      "cell_type": "markdown",
      "metadata": {
        "id": "ya5f2RZCAYQj"
      },
      "source": [
        "#### 3. Evolucion Temporal de los modos"
      ]
    },
    {
      "cell_type": "markdown",
      "metadata": {
        "id": "weazgRH69O8V"
      },
      "source": [
        "Exploremos como evolucionan temporalmente los primeros 4 modos empíricos."
      ]
    },
    {
      "cell_type": "code",
      "metadata": {
        "id": "tJJvr9X9x1zu"
      },
      "source": [
        "#PRIMEROS MODOS TEMPORALES\n",
        "\n",
        "plt.figure(figsize=(15,5))\n",
        "plt.subplot(1,2,1)\n",
        "plt.plot(Vhat[0],'.-',label='V1')\n",
        "plt.plot(Vhat[1],'.-',label='V2')\n",
        "plt.plot(Vhat[2],'.-',label='V3')\n",
        "#plt.plot(Vhat[3],'.-',label='V3')\n",
        "plt.title('Evolución temporal del los primeros 4 modos')\n",
        "plt.legend()\n",
        "plt.subplot(1,2,2)\n",
        "\n",
        "modo = 0\n",
        "plt.plot(Vhat[modo],'.-',label='Modo elegido')\n",
        "plt.title('Evolución temporal del un modo')\n",
        "plt.legend()\n",
        "\n",
        "\n",
        "plt.show()"
      ],
      "execution_count": null,
      "outputs": []
    },
    {
      "cell_type": "markdown",
      "metadata": {
        "id": "Dl5my2qC9G7Y"
      },
      "source": [
        "Si graficamos la evolución temporal de los primeros 3 modos:"
      ]
    },
    {
      "cell_type": "code",
      "metadata": {
        "id": "rC3laFGq8TCD"
      },
      "source": [
        "fig = plt.figure(figsize=(15,6))\n",
        "ax = fig.add_subplot(1, 2, 1, projection='3d')\n",
        "ax = fig.gca(projection='3d')\n",
        "ax.plot(Vhat[0],Vhat[1],Vhat[2])\n",
        "ax.set_xlabel('PC1')\n",
        "ax.set_ylabel('PC2')\n",
        "ax.set_zlabel('PC3')\n",
        "plt.show()"
      ],
      "execution_count": null,
      "outputs": []
    },
    {
      "cell_type": "markdown",
      "metadata": {
        "id": "pBpThTxOlygY"
      },
      "source": [
        "**Discusión:** Observando la imagen de los modos espaciales y su evolución temporal, responda:\n",
        "\n",
        "\n",
        "\n",
        "*   ¿Podríamos pensar que la evoilcuión de los priemros 3 modos se da dentro de un espacio de fases? ¿Que tipo de solución sería?\n",
        "\n",
        "*   Si tuviese que elegir dos modos que representen la dinamica de oscilación, ¿cuáles eligiríá? Haga un grafico con únicamente esos modos.\n",
        "\n",
        "*   Observe cómo hubiesen quedado los primeros modos si no se restaba el \"frame promedio\". Mire el priemr modo espacial en ese caso ¿Parece estar involucrado en la dinámica de la membrana que oscila? ¿A que podría corresponder?\n",
        "\n",
        " \n"
      ]
    },
    {
      "cell_type": "markdown",
      "metadata": {
        "id": "jzGjLls_JUKi"
      },
      "source": [
        "#### 4. Reconstrucción de la pelicula a partir de los modos truncados\n",
        "\n",
        "Por último, vamos a reconstruir la película, pero únicamente utilizando una cantidad truncada de modos."
      ]
    },
    {
      "cell_type": "code",
      "metadata": {
        "id": "c-5bWzFqa0HG"
      },
      "source": [
        "modes=[0,1,2,3,4,5,6] #qué modos quiero usar para reconstrucción\n",
        "Y_approx=np.dot(np.dot(Uhat[:,modes],np.diag(Shat[modes])),Vhat[modes,:])\n",
        "\n",
        "lista=[]\n",
        "for j in range(X.shape[0]):\n",
        "  #Reacomodo las dimensiones para recuoerar la forma original de los frames\n",
        "  N=np.reshape(Y_approx[:,j],(dims[1],dims[2]))+X_medio\n",
        "  #Reescaleo de 0 a 255\n",
        "  N=N*255 \n",
        "  N=np.clip(N, 0, 255)\n",
        "  N=N.astype('uint8')\n",
        "  lista.append(N)\n",
        "  "
      ],
      "execution_count": null,
      "outputs": []
    },
    {
      "cell_type": "markdown",
      "metadata": {
        "id": "oDu0NasYKgWV"
      },
      "source": [
        "Guardamos el nuevo gif reconstruido en nuestra carpeta de trabajo:"
      ]
    },
    {
      "cell_type": "code",
      "metadata": {
        "id": "Kr_62Kf-clNR"
      },
      "source": [
        "import imageio\n",
        "from IPython.display import Image\n",
        "dir_gif = \"/content/gdrive/My Drive/Ayudantia/DNL/ModosEmpiricos/proyeccion.gif\"\n",
        "imageio.mimsave(dir_gif, lista)"
      ],
      "execution_count": null,
      "outputs": []
    },
    {
      "cell_type": "markdown",
      "metadata": {
        "id": "aUzu-P29KmMR"
      },
      "source": [
        "Podemos observar como quedó nuestra pelicula realizada unicamente con N modos."
      ]
    },
    {
      "cell_type": "code",
      "metadata": {
        "id": "2iV9mHf0clBd"
      },
      "source": [
        "print('Pelicula generada con 7 modos')\n",
        "Image(open(dir_gif,'rb').read())"
      ],
      "execution_count": null,
      "outputs": []
    },
    {
      "cell_type": "markdown",
      "metadata": {
        "id": "fssIZ5K7oN34"
      },
      "source": [
        "**Ejercicio:** Cambie el número de componentes utilizadas y observe como cambia la calidad de la animación reconstruida."
      ]
    },
    {
      "cell_type": "markdown",
      "metadata": {
        "id": "P8JeFbfAAD44"
      },
      "source": [
        "# Usar SVD para comprimir un foto"
      ]
    },
    {
      "cell_type": "code",
      "metadata": {
        "id": "US15kDLm9g4y"
      },
      "source": [
        "import matplotlib.pyplot as plt\n",
        "import numpy as np\n",
        "from skimage import io\n",
        "import cv2 as cv\n",
        "from tensorflow.keras.preprocessing import image\n",
        "#Guardan la imagen en su directorio\n",
        "#https://drive.google.com/file/d/1Q11MUlfuKHK7jo2xQHimkUZ1J71VlDiM/view?usp=sharing\n",
        "# Leemos la imagen de internet\n",
        "#image = io.imread('https://drive.google.com/file/d/1Q11MUlfuKHK7jo2xQHimkUZ1J71VlDiM/view?usp=sharing')\n",
        "dir_img=\"/content/gdrive/My Drive/Ayudantia/DNL/ModosEmpiricos/messiFHD.jpg\"\n",
        "im = image.load_img(dir_img, color_mode=\"grayscale\")\n",
        "img=image.img_to_array(im)\n",
        "X_img=img[:,:,0]\n",
        "print('Dimension de la foto:')\n",
        "print(X_img.shape)"
      ],
      "execution_count": null,
      "outputs": []
    },
    {
      "cell_type": "markdown",
      "metadata": {
        "id": "a1AOMfXXBlOh"
      },
      "source": [
        "Tomamos como matriz la foto en escala de grises, y hacemos la descompocisión SVD."
      ]
    },
    {
      "cell_type": "code",
      "metadata": {
        "id": "yalLzFvh-VwY"
      },
      "source": [
        "U, D, V = np.linalg.svd(X_img)"
      ],
      "execution_count": null,
      "outputs": []
    },
    {
      "cell_type": "markdown",
      "metadata": {
        "id": "CWMeQAIaByE_"
      },
      "source": [
        "Graficamos como queda la foto reconstruida únicamente con N modos y descubrimos la imagen:"
      ]
    },
    {
      "cell_type": "code",
      "metadata": {
        "id": "lPFKoXeW9-z2"
      },
      "source": [
        "for i in [2, 3, 5, 8, 10, 20, 50, 100]:\n",
        "    reconstimg = np.matrix(U[:, :i]) * np.diag(D[:i]) * np.matrix(V[:i, :])\n",
        "    plt.figure(figsize=(8,8))\n",
        "    plt.imshow(reconstimg, cmap='gray')\n",
        "    title = \"N = %s\" % i\n",
        "    plt.title(title)\n",
        "    plt.show()"
      ],
      "execution_count": null,
      "outputs": []
    },
    {
      "cell_type": "markdown",
      "metadata": {
        "id": "s45p7gjJjpUT"
      },
      "source": [
        "Guardemos la reconstrucción con 100 modos y veamos cuanto pesa en comparación a la original."
      ]
    },
    {
      "cell_type": "code",
      "metadata": {
        "id": "jyCkrj59j2AU"
      },
      "source": [
        "reconstimg=np.array(reconstimg)"
      ],
      "execution_count": null,
      "outputs": []
    },
    {
      "cell_type": "code",
      "metadata": {
        "id": "wDeGkAYxlFk7"
      },
      "source": [
        "import matplotlib\n",
        "\n",
        "matplotlib.image.imsave('/content/gdrive/My Drive/Ayudantia/DNL/ModosEmpiricos/outfile.jpg', reconstimg,cmap='Greys_r')"
      ],
      "execution_count": null,
      "outputs": []
    }
  ]
}