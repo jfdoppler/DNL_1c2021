{
  "nbformat": 4,
  "nbformat_minor": 0,
  "metadata": {
    "anaconda-cloud": {},
    "colab": {
      "name": "01_python_intro.ipynb",
      "provenance": [],
      "include_colab_link": true
    },
    "kernelspec": {
      "display_name": "Python 3",
      "language": "python",
      "name": "python3"
    },
    "language_info": {
      "codemirror_mode": {
        "name": "ipython",
        "version": 3
      },
      "file_extension": ".py",
      "mimetype": "text/x-python",
      "name": "python",
      "nbconvert_exporter": "python",
      "pygments_lexer": "ipython3",
      "version": "3.7.9"
    }
  },
  "cells": [
    {
      "cell_type": "markdown",
      "metadata": {
        "id": "view-in-github",
        "colab_type": "text"
      },
      "source": [
        "<a href=\"https://colab.research.google.com/github/jfdoppler/DNL_1c2021/blob/main/01_python_intro.ipynb\" target=\"_parent\"><img src=\"https://colab.research.google.com/assets/colab-badge.svg\" alt=\"Open In Colab\"/></a>"
      ]
    },
    {
      "cell_type": "markdown",
      "metadata": {
        "id": "UkRxk91DlP_l"
      },
      "source": [
        "## Arrancando\n",
        "Esto es lo que se conoce como un *notebook* (extensión .ipynb). En un notebook van a encontrar bloques de texto (*markdown*) y de código.\n",
        "\n",
        "En un notebook pueden agregar bloques de texto y código usando los botones de arriba:\n",
        "\n",
        "![add](https://drive.google.com/uc?id=1k1cFLTpFtgudPNi9mcCfWuBnFJI4FBUp)\n",
        "\n",
        "## Ejecutando código en la nube\n",
        "\n",
        "Para evitarnos instalar cosas vamos a correr el código de forma remota en [Google Colab](https://colab.research.google.com/). Tiene la ventaja también de que pueden cargar archivos directo desde github (que sean propios y/o públicos).\n",
        "\n",
        "### Google y Stackoverflow son sus amigos\n",
        "\n",
        "La comunidad de programadores (y de Python) es enorme. Por eso, la primera fuente de información es internet. La regla básica es que cualquier problema con el que se encuentren, ya se le habrá presentado a un montón de gente, y por lo general googlear lo que se quiere hacer o el mensaje de error cuando algo falla, es una herramienta fundamental.\n",
        "\n",
        "Incluso Google Colab tiene la función de buscar en stackoverflow el código siempre que les tire un error:\n",
        "\n",
        "![error](https://drive.google.com/uc?id=1ltek56UtkCbKXpytA7nJnkL3J1pwz2by)"
      ]
    },
    {
      "cell_type": "markdown",
      "metadata": {
        "id": "gwswU26gefkg"
      },
      "source": [
        "### Hola mundo!"
      ]
    },
    {
      "cell_type": "code",
      "metadata": {
        "colab": {
          "base_uri": "https://localhost:8080/",
          "height": 129
        },
        "id": "_1_15UfvlP_p",
        "outputId": "f4a5a50c-2a0f-4831-cabe-7e214aaa03f5"
      },
      "source": [
        "print 'Hola mundo!'"
      ],
      "execution_count": null,
      "outputs": [
        {
          "output_type": "error",
          "ename": "SyntaxError",
          "evalue": "ignored",
          "traceback": [
            "\u001b[0;36m  File \u001b[0;32m\"<ipython-input-1-83a30bdbf763>\"\u001b[0;36m, line \u001b[0;32m1\u001b[0m\n\u001b[0;31m    print 'Hola mundo!'\u001b[0m\n\u001b[0m                      ^\u001b[0m\n\u001b[0;31mSyntaxError\u001b[0m\u001b[0;31m:\u001b[0m Missing parentheses in call to 'print'. Did you mean print('Hola mundo!')?\n"
          ]
        }
      ]
    },
    {
      "cell_type": "markdown",
      "metadata": {
        "id": "wjwollmUlP_w"
      },
      "source": [
        "### Aritmética básica\n",
        "Se pueden hacer las operaciones básicas."
      ]
    },
    {
      "cell_type": "code",
      "metadata": {
        "colab": {
          "base_uri": "https://localhost:8080/",
          "height": 34
        },
        "id": "M9xKbSJllP_y",
        "outputId": "648289e4-47b2-4c0f-f353-a718b7645020"
      },
      "source": [
        "1+1"
      ],
      "execution_count": null,
      "outputs": [
        {
          "output_type": "execute_result",
          "data": {
            "text/plain": [
              "2"
            ]
          },
          "metadata": {
            "tags": []
          },
          "execution_count": 2
        }
      ]
    },
    {
      "cell_type": "code",
      "metadata": {
        "id": "kyACdkazlP_1",
        "outputId": "bf9c16b7-c4c0-4d1a-e155-2d644456e10d"
      },
      "source": [
        "8*5"
      ],
      "execution_count": null,
      "outputs": [
        {
          "output_type": "execute_result",
          "data": {
            "text/plain": [
              "40"
            ]
          },
          "metadata": {
            "tags": []
          },
          "execution_count": 6
        }
      ]
    },
    {
      "cell_type": "markdown",
      "metadata": {
        "id": "iuuTzOG_lP_4"
      },
      "source": [
        "Para controlar que se imprime, se puede usar la función print.\n",
        "\n",
        "#### Qué hacen los operadores //, % y **?"
      ]
    },
    {
      "cell_type": "code",
      "metadata": {
        "id": "lAGj366AlP_5",
        "outputId": "f39b7bd9-6c45-4560-ed25-3a17a956fee0"
      },
      "source": [
        "print(7/2)\n",
        "print(7//2)\n",
        "print(7%2)\n",
        "print(5**2)\n",
        "print(25**0.5)"
      ],
      "execution_count": null,
      "outputs": [
        {
          "output_type": "stream",
          "text": [
            "3.5\n",
            "3\n",
            "1\n",
            "25\n",
            "5.0\n"
          ],
          "name": "stdout"
        }
      ]
    },
    {
      "cell_type": "markdown",
      "metadata": {
        "id": "XK9C9UetlP_7"
      },
      "source": [
        "Podemos guardar resultados en variables. No hace falta que le digamos qué tipo de variable es (un entero, un float, string...), y podemos cambiar de tipo (ojo con esto!)."
      ]
    },
    {
      "cell_type": "code",
      "metadata": {
        "colab": {
          "base_uri": "https://localhost:8080/",
          "height": 51
        },
        "id": "jG5ca1VKlP_8",
        "outputId": "97fdaff8-9aae-432b-d234-3f7c978f47a8"
      },
      "source": [
        "a = 3\n",
        "b = 2\n",
        "str_times_int = a*b\n",
        "print(str_times_int)\n",
        "a = str(b)\n",
        "a"
      ],
      "execution_count": null,
      "outputs": [
        {
          "output_type": "stream",
          "text": [
            "6\n"
          ],
          "name": "stdout"
        },
        {
          "output_type": "execute_result",
          "data": {
            "text/plain": [
              "'2'"
            ]
          },
          "metadata": {
            "tags": []
          },
          "execution_count": 3
        }
      ]
    },
    {
      "cell_type": "markdown",
      "metadata": {
        "id": "dpm_gRn2eqyo"
      },
      "source": [
        "Cuidado que Python cambia automáticamente entre tipos segun le conviene!"
      ]
    },
    {
      "cell_type": "code",
      "metadata": {
        "colab": {
          "base_uri": "https://localhost:8080/",
          "height": 34
        },
        "id": "O9chEtvpeu1B",
        "outputId": "f578d608-a566-4c78-b897-747e44a23b6e"
      },
      "source": [
        "c = b/2\n",
        "print(c)"
      ],
      "execution_count": null,
      "outputs": [
        {
          "output_type": "stream",
          "text": [
            "1.0\n"
          ],
          "name": "stdout"
        }
      ]
    },
    {
      "cell_type": "markdown",
      "metadata": {
        "id": "qw_TZkmslP__"
      },
      "source": [
        "Atención! A la derecha del igual se hacen todas las cuentas y el resultado se guarda en el símbolo de la izquierda"
      ]
    },
    {
      "cell_type": "code",
      "metadata": {
        "id": "bvSqKTMhlQAA",
        "outputId": "6cfdcff4-5c58-47df-d6a6-7fb6c296b24f"
      },
      "source": [
        "c = 2\n",
        "d = 5\n",
        "c = c*d\n",
        "print(c)"
      ],
      "execution_count": null,
      "outputs": [
        {
          "output_type": "stream",
          "text": [
            "10\n"
          ],
          "name": "stdout"
        }
      ]
    },
    {
      "cell_type": "markdown",
      "metadata": {
        "id": "hPJGsVv6lQAF"
      },
      "source": [
        "## Listas\n",
        "\n",
        "Hasta ahora vimos tres tipos de datos, los números enteros (int, de integer en inglés), los racionales (float, de números de punto flotante) y los strings (str, texto)\n",
        "\n",
        "Las listas se definen usando corchetes, con sus elementos (que pueden ser cualquier cosa, incluso otras listas) separados por comas. Podemos agregarle elementos a una lista haciendo:\n",
        "\n",
        "```\n",
        "lista = [...]\n",
        "lista.append(nuevo_elemento)\n",
        "```\n",
        "\n",
        "Y preguntarle su longitud usando la función len\n"
      ]
    },
    {
      "cell_type": "code",
      "metadata": {
        "id": "cCh-dC-rFj-S"
      },
      "source": [
        "lista1 = [1, 4, 0, 3, -1, 900, 901]\n",
        "print(lista1)\n",
        "print(len(lista1))\n",
        "lista1.append(-11)\n",
        "print(lista1)"
      ],
      "execution_count": null,
      "outputs": []
    },
    {
      "cell_type": "markdown",
      "metadata": {
        "id": "eiGoSsoiFjZD"
      },
      "source": [
        "Las listas tienen orden, y se puede acceder a sus elementos por el índice (la numeración empieza por 0)."
      ]
    },
    {
      "cell_type": "code",
      "metadata": {
        "colab": {
          "base_uri": "https://localhost:8080/",
          "height": 102
        },
        "id": "6XhfmuavlQAF",
        "outputId": "c13547eb-0aaa-4c5a-e073-087fff2a887a"
      },
      "source": [
        "\n",
        "lista2 = [4, 'hola', [4,5], lista1, lista1[2], 10]\n",
        "print(lista2[1])\n",
        "lista1[1] = -5\n",
        "print(lista1)\n"
      ],
      "execution_count": null,
      "outputs": [
        {
          "output_type": "stream",
          "text": [
            "[1, 4, 0, 3, -1, 900, 901]\n",
            "7\n",
            "[1, 4, 0, 3, -1, 900, 901, -11]\n",
            "hola\n",
            "[1, -5, 0, 3, -1, 900, 901, -11]\n"
          ],
          "name": "stdout"
        }
      ]
    },
    {
      "cell_type": "markdown",
      "metadata": {
        "id": "MuxqcO-YlQAK"
      },
      "source": [
        "También podemos acceder \"desde el final\", usando indices negativos."
      ]
    },
    {
      "cell_type": "code",
      "metadata": {
        "colab": {
          "base_uri": "https://localhost:8080/",
          "height": 51
        },
        "id": "_blBEbe8lQAL",
        "outputId": "94fb5a2c-62a3-4d88-f7e3-f08dfe65a831"
      },
      "source": [
        "print(lista1[-1])\n",
        "print(lista2[-3])"
      ],
      "execution_count": null,
      "outputs": [
        {
          "output_type": "stream",
          "text": [
            "901\n",
            "[1, -5, 0, 3, -1, 900, 901]\n"
          ],
          "name": "stdout"
        }
      ]
    },
    {
      "cell_type": "markdown",
      "metadata": {
        "id": "_-WNsU2hlQAN"
      },
      "source": [
        "Y quedarnos con un pedazo (desde:hasta:cada, incluyendo el desde, excluyendo el hasta)"
      ]
    },
    {
      "cell_type": "code",
      "metadata": {
        "colab": {
          "base_uri": "https://localhost:8080/",
          "height": 34
        },
        "id": "3_yGws4_lQAO",
        "outputId": "a4179e54-04a9-4d68-fe14-7eae5877a1f5"
      },
      "source": [
        "lista1[1:6:2]"
      ],
      "execution_count": null,
      "outputs": [
        {
          "output_type": "execute_result",
          "data": {
            "text/plain": [
              "[-5, 3, 900]"
            ]
          },
          "metadata": {
            "tags": []
          },
          "execution_count": 6
        }
      ]
    },
    {
      "cell_type": "markdown",
      "metadata": {
        "id": "rFxUjxYq90EA"
      },
      "source": [
        "## Ejercicio\n",
        "Defina una lista con los número naturales del 1 al 10. Quedese con los valores pares. ¿Puede tenerlos de mayor a menor?\n",
        "\n",
        "```\n",
        "numeros = ...\n",
        "pares = numeros[...]\n",
        "pares_al_reves = numeros[...]\n",
        "```\n",
        "\n",
        "\n"
      ]
    },
    {
      "cell_type": "code",
      "metadata": {
        "id": "CK2ROn4Q-8EE"
      },
      "source": [
        "# Ejercicio:"
      ],
      "execution_count": null,
      "outputs": []
    },
    {
      "cell_type": "markdown",
      "metadata": {
        "id": "qa2c4ToolQAo"
      },
      "source": [
        "# Funciones y argumentos\n",
        "Cuando queremos ejecutar un código muchas veces, suele convenir definir funciones. Las funciones toman un valor de entrada, hacen alguna operación y nos devuelven otro valor.\n",
        "\n",
        "Las funciones pueden requerir variables. Las variables pueden ser ''obligatorias'' u ''opcionales''. Para definir una funcion que requiera una variable obligatoria (es decir, una sin la cual la función no puede ejecutarse) usamos la sintaxis:\n",
        "\n",
        "```\n",
        "def funcion(variable):\n",
        "    ...codigo...\n",
        "    return algo\n",
        "```\n",
        "\n",
        "Noten la palabra clave **def** separada por un espacio. Luego viene un nombre, que es como se va a llamar la función. Acá **solamente la estamos definiendo**, aún **no se ejecuta**. Cuando la ejecutemos la vamos a llamar por ese nombre. Luego, entre paréntesis, viene el argumento que recibe la función y sobre el que va a operar, y finalmente \":\". Lo que tiene que hacer la función viene en las líneas siguientes que se escriben con una indentación de 4 espacios (1 tab) hacia la derecha. Por último hay otra palabra clave, **return**. Esta define que es el resultado que la función va a *devolver* al ser llamada. Todo lo que ocurre dentro de la función (variables que se definen, operaciones, etc) es (por lo general) invisible, excepto lo que devuelve.\n",
        "\n",
        "Un ejemplo de una función sencilla sería:\n"
      ]
    },
    {
      "cell_type": "code",
      "metadata": {
        "id": "wscED3QtFJpk"
      },
      "source": [
        "def elevar_a_la_n(x, n):\n",
        "    res = x**n\n",
        "    return res"
      ],
      "execution_count": null,
      "outputs": []
    },
    {
      "cell_type": "markdown",
      "metadata": {
        "id": "KuvI6k00Fljz"
      },
      "source": [
        "Noten que ejecutar la celda anterior no produce ningún resultado, incluso si le preguntamos cuanto vale la variable \"res\":"
      ]
    },
    {
      "cell_type": "code",
      "metadata": {
        "colab": {
          "base_uri": "https://localhost:8080/",
          "height": 163
        },
        "id": "YzmobH9RFs9q",
        "outputId": "15b2dd15-9db3-4ce7-e137-716e3ffadc27"
      },
      "source": [
        "print(res)"
      ],
      "execution_count": null,
      "outputs": [
        {
          "output_type": "error",
          "ename": "NameError",
          "evalue": "ignored",
          "traceback": [
            "\u001b[0;31m---------------------------------------------------------------------------\u001b[0m",
            "\u001b[0;31mNameError\u001b[0m                                 Traceback (most recent call last)",
            "\u001b[0;32m<ipython-input-2-a90dea80f461>\u001b[0m in \u001b[0;36m<module>\u001b[0;34m()\u001b[0m\n\u001b[0;32m----> 1\u001b[0;31m \u001b[0mprint\u001b[0m\u001b[0;34m(\u001b[0m\u001b[0mres\u001b[0m\u001b[0;34m)\u001b[0m\u001b[0;34m\u001b[0m\u001b[0;34m\u001b[0m\u001b[0m\n\u001b[0m",
            "\u001b[0;31mNameError\u001b[0m: name 'res' is not defined"
          ]
        }
      ]
    },
    {
      "cell_type": "markdown",
      "metadata": {
        "id": "hG6c9mdgF1NA"
      },
      "source": [
        "Para usar la función tenemos que hacer:"
      ]
    },
    {
      "cell_type": "code",
      "metadata": {
        "colab": {
          "base_uri": "https://localhost:8080/",
          "height": 34
        },
        "id": "4PGboqOLF3mj",
        "outputId": "d993377d-a9f1-4216-99a2-576b5526593e"
      },
      "source": [
        "cuenta = elevar_a_la_n(4, -1)\n",
        "print(cuenta)"
      ],
      "execution_count": null,
      "outputs": [
        {
          "output_type": "stream",
          "text": [
            "0.25\n"
          ],
          "name": "stdout"
        }
      ]
    },
    {
      "cell_type": "code",
      "metadata": {
        "id": "rM0FgL0GlQAq"
      },
      "source": [
        "def flip(string):\n",
        "    return string[::-1]"
      ],
      "execution_count": null,
      "outputs": []
    },
    {
      "cell_type": "code",
      "metadata": {
        "colab": {
          "base_uri": "https://localhost:8080/",
          "height": 197
        },
        "id": "criPrpkAlQAu",
        "outputId": "d150da53-774d-4b57-ceeb-6a488670ff61"
      },
      "source": [
        "flip('me*em')\n",
        "flip('neuquen', 'mendoza')\n",
        "flip()"
      ],
      "execution_count": null,
      "outputs": [
        {
          "output_type": "error",
          "ename": "TypeError",
          "evalue": "ignored",
          "traceback": [
            "\u001b[0;31m---------------------------------------------------------------------------\u001b[0m",
            "\u001b[0;31mTypeError\u001b[0m                                 Traceback (most recent call last)",
            "\u001b[0;32m<ipython-input-11-45903b697e36>\u001b[0m in \u001b[0;36m<module>\u001b[0;34m()\u001b[0m\n\u001b[1;32m      1\u001b[0m \u001b[0mflip\u001b[0m\u001b[0;34m(\u001b[0m\u001b[0;34m'me*em'\u001b[0m\u001b[0;34m)\u001b[0m\u001b[0;34m\u001b[0m\u001b[0;34m\u001b[0m\u001b[0m\n\u001b[0;32m----> 2\u001b[0;31m \u001b[0mflip\u001b[0m\u001b[0;34m(\u001b[0m\u001b[0;34m'neuquen'\u001b[0m\u001b[0;34m,\u001b[0m \u001b[0;34m'mendoza'\u001b[0m\u001b[0;34m)\u001b[0m\u001b[0;34m\u001b[0m\u001b[0;34m\u001b[0m\u001b[0m\n\u001b[0m\u001b[1;32m      3\u001b[0m \u001b[0mflip\u001b[0m\u001b[0;34m(\u001b[0m\u001b[0;34m)\u001b[0m\u001b[0;34m\u001b[0m\u001b[0;34m\u001b[0m\u001b[0m\n",
            "\u001b[0;31mTypeError\u001b[0m: flip() takes 1 positional argument but 2 were given"
          ]
        }
      ]
    },
    {
      "cell_type": "markdown",
      "metadata": {
        "id": "OiyCNIAsFJ0w"
      },
      "source": [
        "A veces tiene sentido definir (o se van a encontrar con) funciones que tiene argumentos opcionales. Esto quiere decir que hay argumentos que tienen un valor por defecto y si uno no le dice otra cosa, la función usa ese valor. Para los argumentos opcionales tenemos que darle un valor por defecto, de forma que si no se lo pasamos al llamar la función, igual se pueda ejecutar\n",
        "```\n",
        "def funcion(variable, opc=4):\n",
        "    ...codigo...\n",
        "```\n"
      ]
    },
    {
      "cell_type": "code",
      "metadata": {
        "id": "kXmn7y2PlQAw",
        "outputId": "3021e34e-0bc7-4e5f-9f21-2e0ae3e27452"
      },
      "source": [
        "def lineal(x, ordenada=1, pendiente=1):\n",
        "    return pendiente*x+ordenada\n",
        "\n",
        "print(lineal(5))\n",
        "print(lineal(5, ordenada=4))\n",
        "print(lineal(5, ordenada=4, pendiente=-1))"
      ],
      "execution_count": null,
      "outputs": [
        {
          "output_type": "stream",
          "text": [
            "6\n",
            "9\n",
            "-1\n"
          ],
          "name": "stdout"
        }
      ]
    },
    {
      "cell_type": "markdown",
      "metadata": {
        "id": "f2VyVLFOGcqe"
      },
      "source": [
        "## Ejercicio\n",
        "\n",
        "Escribí una función que:\n",
        "\n",
        "1) Dados los catetos de un triángulo rectángulo devuelva la hipotenusa\n",
        "\n",
        "2) Dado un gasto en el exterior en dólares y la cotización del día, lo convierta a pesos (recordá aplicar el impuesto PAIS)"
      ]
    },
    {
      "cell_type": "code",
      "metadata": {
        "id": "SwhHCIurLksc"
      },
      "source": [
        "..."
      ],
      "execution_count": null,
      "outputs": []
    },
    {
      "cell_type": "markdown",
      "metadata": {
        "id": "0wrhbmUflQAQ"
      },
      "source": [
        "## Extra: tuplas y diccionarios\n",
        "Las tuplas son parecidas a las listas, salvo que son inmutables (no se pueden cambiar sus valores). En vez de corchetes, van con paréntesis. Ojo, para crear una tupla de 1 elemento, hay que poner una coma después"
      ]
    },
    {
      "cell_type": "code",
      "metadata": {
        "id": "0xJnXfw4lQAR",
        "outputId": "8f1bd34d-20be-46d2-f12f-7fee71ab0870"
      },
      "source": [
        "tupla = (1, 2, 'a')\n",
        "print(tupla)\n",
        "print(tupla[1])\n",
        "print(tupla[-1])\n",
        "tupla2 = (2, )\n",
        "print(type(tupla2))\n",
        "not_tupla = (2)\n",
        "print(type(not_tupla))"
      ],
      "execution_count": null,
      "outputs": [
        {
          "output_type": "stream",
          "text": [
            "(1, 2, 'a')\n",
            "2\n",
            "a\n",
            "<class 'tuple'>\n",
            "<class 'int'>\n"
          ],
          "name": "stdout"
        }
      ]
    },
    {
      "cell_type": "code",
      "metadata": {
        "id": "N3MwfqPBlQAT",
        "outputId": "7e9c9779-0015-47e2-eef8-d96423ed21c4"
      },
      "source": [
        "tupla[1] = 2"
      ],
      "execution_count": null,
      "outputs": [
        {
          "output_type": "error",
          "ename": "TypeError",
          "evalue": "'tuple' object does not support item assignment",
          "traceback": [
            "\u001b[0;31m---------------------------------------------------------------------------\u001b[0m",
            "\u001b[0;31mTypeError\u001b[0m                                 Traceback (most recent call last)",
            "\u001b[0;32m<ipython-input-40-770160c2af07>\u001b[0m in \u001b[0;36m<module>\u001b[0;34m()\u001b[0m\n\u001b[0;32m----> 1\u001b[0;31m \u001b[0mtupla\u001b[0m\u001b[0;34m[\u001b[0m\u001b[0;36m1\u001b[0m\u001b[0;34m]\u001b[0m \u001b[0;34m=\u001b[0m \u001b[0;36m2\u001b[0m\u001b[0;34m\u001b[0m\u001b[0m\n\u001b[0m",
            "\u001b[0;31mTypeError\u001b[0m: 'tuple' object does not support item assignment"
          ]
        }
      ]
    },
    {
      "cell_type": "markdown",
      "metadata": {
        "id": "9717QsOnlQAW"
      },
      "source": [
        "Los diccionarios son como las listas pero cada entrada viene de a dos: key y value (como palabra y definición en el diccionario). Se definen con llaves. Noten que cada *key* viene seguida de su *value*, separado por :, y que distintas entradas se separan con comas (como en las listas)"
      ]
    },
    {
      "cell_type": "code",
      "metadata": {
        "id": "bZyBTaXslQAX"
      },
      "source": [
        "dic = {'a': 1, 'b': [2, 4], 248: True}"
      ],
      "execution_count": null,
      "outputs": []
    },
    {
      "cell_type": "markdown",
      "metadata": {
        "id": "Ii2oi2MvlQAZ"
      },
      "source": [
        "Se accede a los valores usando las keys, y se le pueden agregar entradas."
      ]
    },
    {
      "cell_type": "code",
      "metadata": {
        "colab": {
          "base_uri": "https://localhost:8080/",
          "height": 51
        },
        "id": "HhSEaC4flQAa",
        "outputId": "910ec5a1-6665-406d-c1a2-5eb95fcacea8"
      },
      "source": [
        "print(dic['b'])\n",
        "dic['c'] = 'hola'\n",
        "print(dic)"
      ],
      "execution_count": null,
      "outputs": [
        {
          "output_type": "stream",
          "text": [
            "[2, 4]\n",
            "{'a': 1, 'b': [2, 4], 248: True, 'c': 'hola'}\n"
          ],
          "name": "stdout"
        }
      ]
    }
  ]
}