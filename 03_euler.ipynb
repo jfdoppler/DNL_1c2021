{
  "nbformat": 4,
  "nbformat_minor": 0,
  "metadata": {
    "anaconda-cloud": {},
    "colab": {
      "name": "03_euler.ipynb",
      "provenance": [],
      "include_colab_link": true
    },
    "kernelspec": {
      "display_name": "Python 3",
      "language": "python",
      "name": "python3"
    },
    "language_info": {
      "codemirror_mode": {
        "name": "ipython",
        "version": 3
      },
      "file_extension": ".py",
      "mimetype": "text/x-python",
      "name": "python",
      "nbconvert_exporter": "python",
      "pygments_lexer": "ipython3",
      "version": "3.7.9"
    }
  },
  "cells": [
    {
      "cell_type": "markdown",
      "metadata": {
        "id": "view-in-github",
        "colab_type": "text"
      },
      "source": [
        "<a href=\"https://colab.research.google.com/github/jfdoppler/DNL_1c2021/blob/main/03_euler.ipynb\" target=\"_parent\"><img src=\"https://colab.research.google.com/assets/colab-badge.svg\" alt=\"Open In Colab\"/></a>"
      ]
    },
    {
      "cell_type": "markdown",
      "metadata": {
        "id": "3b0ZIIab8xeA"
      },
      "source": [
        "# Integración I\n",
        "\n",
        "## Método de Euler\n"
      ]
    },
    {
      "cell_type": "markdown",
      "metadata": {
        "id": "6-Q2qxma8xeQ"
      },
      "source": [
        "Supongamos que tenemos una ecuación diferencial de esta forma:\n",
        "$$\n",
        "\\frac{dx}{dt} = f(x, t)\n",
        "$$\n",
        "\n",
        "El método de Euler consiste en aproximar la derivada por el cociente incremental: $\\frac{dx}{dt} \\simeq \\frac{\\Delta x}{\\Delta t}$:\n",
        "\n",
        "$$\n",
        "\\frac{x(t+\\Delta t) - x(t)}{\\Delta t} = f(x, t)\n",
        "$$\n",
        "\n",
        "$$\n",
        "x(t+\\Delta t) = x(t)+f(x, t)\\Delta t\n",
        "$$\n",
        "\n",
        "Con lo que conseguimos una regla que prescribe el valor siguiente de la función x siguiente en función de la condición inicial y del valor de la derivada.\n",
        "\n",
        "#### Ejemplo\n",
        "Integremos el modelo de Gompertz (ej. 3 de la guía 1)\n",
        "\n",
        "$$\n",
        "\\dot{N} = -aNln(bN)\n",
        "$$\n",
        "\n",
        "$$\n",
        "\\frac{N(t + \\Delta t) - N(t)}{\\Delta t} = -aN(t) ln(bN(t))\n",
        "$$\n",
        "\n",
        "$$\n",
        "N(t + \\Delta t) = N(t) -aN(t) ln(bN(t))\\Delta t\n",
        "$$\n",
        "\n",
        "Noten que para resolver esto tenemos que definir, además de la condición incial, cual es el paso temporal. Qué les parece que puede pasar si cambiamos este valor?"
      ]
    },
    {
      "cell_type": "code",
      "metadata": {
        "id": "fNhYufyy8xeb"
      },
      "source": [
        "%matplotlib inline\n",
        "import numpy as np\n",
        "import matplotlib.pyplot as plt"
      ],
      "execution_count": null,
      "outputs": []
    },
    {
      "cell_type": "code",
      "metadata": {
        "colab": {
          "base_uri": "https://localhost:8080/",
          "height": 283
        },
        "id": "RIoSV8278xei",
        "outputId": "d85616be-f812-497f-e36a-f7df42f7de01"
      },
      "source": [
        "# Definimos un paso temporal\n",
        "dt = 0.1\n",
        "# Y un vector de tiempos\n",
        "t = np.arange(0, 10, step=dt)\n",
        "# Le damos valores a los parámetros de las ecuaciones\n",
        "a = 1\n",
        "b = 1\n",
        "# Nos armamos un vector donde vamos a ir guardando los resultados de la integración\n",
        "N = np.zeros_like(t)\n",
        "# Fijamos una condición inicial, dandole valor al primer punto\n",
        "N[0] = 3\n",
        "for i in range(len(t)-1):\n",
        "    # Calculamos el siguiente punto usando el método de Euler (t -> i ; t+dt -> i+1)\n",
        "    N[i + 1] = -a*np.log(b*N[i]) * dt + N[i]\n",
        "\n",
        "plt.plot(t, N)"
      ],
      "execution_count": null,
      "outputs": [
        {
          "output_type": "execute_result",
          "data": {
            "text/plain": [
              "[<matplotlib.lines.Line2D at 0x7fd2e8ccdf98>]"
            ]
          },
          "metadata": {
            "tags": []
          },
          "execution_count": 3
        },
        {
          "output_type": "display_data",
          "data": {
            "image/png": "[encoded data removed]",
            "text/plain": [
              "<Figure size 432x288 with 1 Axes>"
            ]
          },
          "metadata": {
            "tags": []
          }
        }
      ]
    },
    {
      "cell_type": "markdown",
      "metadata": {
        "id": "SnQBi9RSNcvC"
      },
      "source": [
        "En general, si uno usa Euler tiene que calibrar con cuidado el paso temporal, para asegurarse de que no está haciendo cualquier cosa.\n",
        "\n",
        "Una forma de hacer esto es hacer la integración para pasos temporales sucesivamente menores, hasta notar (con algún criterio) que la integración no cambia al refinar el paso temporal."
      ]
    },
    {
      "cell_type": "code",
      "metadata": {
        "colab": {
          "base_uri": "https://localhost:8080/",
          "height": 283
        },
        "id": "R2iO0FuFOeUU",
        "outputId": "b47a736b-0888-48f9-c20a-e72ec6d8d3c5"
      },
      "source": [
        "varios_dt = [1, 0.3, 0.1, 0.03, 0.01]\n",
        "for dt in varios_dt:\n",
        "    # Para cada paso de integración hacemos el proceso\n",
        "    t = np.arange(0, 10, step=dt)\n",
        "    a = 1\n",
        "    b = 1\n",
        "    N = np.zeros_like(t)\n",
        "    # Fijamos una condición inicial, dandole valor al primer punto\n",
        "    N[0] = 5\n",
        "    for i in range(len(t)-1):\n",
        "        # Calculamos el siguiente punto usando el método de Euler (t -> i ; t+dt -> i+1)\n",
        "        N[i + 1] = -a*np.log(b*N[i]) * dt + N[i]\n",
        "    # Le agregamos una etiqueta a cada curva para saber que dt le correspondía\n",
        "    plt.plot(t, N, label='dt = {}'.format(dt))\n",
        "plt.legend()"
      ],
      "execution_count": null,
      "outputs": [
        {
          "output_type": "execute_result",
          "data": {
            "text/plain": [
              "<matplotlib.legend.Legend at 0x7fd2e7f592e8>"
            ]
          },
          "metadata": {
            "tags": []
          },
          "execution_count": 17
        },
        {
          "output_type": "display_data",
          "data": {
            "image/png": "[encoded data removed]",
            "text/plain": [
              "<Figure size 432x288 with 1 Axes>"
            ]
          },
          "metadata": {
            "tags": []
          }
        }
      ]
    }
  ]
}